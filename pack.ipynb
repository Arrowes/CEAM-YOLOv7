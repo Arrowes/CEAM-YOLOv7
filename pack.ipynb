{
 "cells": [
  {
   "cell_type": "code",
   "execution_count": 1,
   "id": "0c97c57d-dfad-45a6-ba22-429d3225e0e8",
   "metadata": {},
   "outputs": [],
   "source": [
    "import os\n",
    "import tarfile\n",
    "\n",
    "def recursive_files(dir_name='.', ignore=None):\n",
    "    for dir_name,subdirs,files in os.walk(dir_name):\n",
    "        if ignore and os.path.basename(dir_name) in ignore: \n",
    "            continue\n",
    "\n",
    "        for file_name in files:\n",
    "            if ignore and file_name in ignore:\n",
    "                continue\n",
    "\n",
    "            yield os.path.join(dir_name, file_name)\n",
    "\n",
    "def make_tar_file(dir_name='.', tar_file_name='tarfile.tar', ignore=None):\n",
    "    tar = tarfile.open(tar_file_name, 'w')\n",
    "\n",
    "    for file_name in recursive_files(dir_name, ignore):\n",
    "        tar.add(file_name)\n",
    "\n",
    "    tar.close()\n",
    "\n",
    "\n",
    "dir_name = '.'\n",
    "tar_file_name = 'archive.tar'\n",
    "ignore = {'.ipynb_checkpoints', '__pycache__', tar_file_name}\n",
    "make_tar_file(dir_name, tar_file_name, ignore)"
   ]
  },
  {
   "cell_type": "code",
   "execution_count": null,
   "id": "f9c5578a-c565-4c72-9ccb-593b3a320290",
   "metadata": {},
   "outputs": [],
   "source": []
  }
 ],
 "metadata": {
  "kernelspec": {
   "display_name": "Python 3 (ipykernel)",
   "language": "python",
   "name": "python3"
  },
  "language_info": {
   "codemirror_mode": {
    "name": "ipython",
    "version": 3
   },
   "file_extension": ".py",
   "mimetype": "text/x-python",
   "name": "python",
   "nbconvert_exporter": "python",
   "pygments_lexer": "ipython3",
   "version": "3.8.10"
  }
 },
 "nbformat": 4,
 "nbformat_minor": 5
}
